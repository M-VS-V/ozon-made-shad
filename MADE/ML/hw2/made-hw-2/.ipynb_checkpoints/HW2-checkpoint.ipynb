{
 "cells": [
  {
   "cell_type": "code",
   "execution_count": 334,
   "metadata": {},
   "outputs": [],
   "source": [
    "import pandas as pd\n",
    "import numpy as np\n",
    "from sklearn.model_selection import KFold, cross_val_score\n",
    "from catboost import Pool, CatBoostClassifier\n",
    "from sklearn.metrics import f1_score\n",
    "from sklearn.datasets import fetch_20newsgroups\n",
    "from sklearn.feature_extraction.text import CountVectorizer, TfidfTransformer\n",
    "from sklearn.naive_bayes import MultinomialNB\n",
    "import numpy as np\n",
    "from sklearn.base import BaseEstimator, ClassifierMixin\n",
    "from sklearn.utils.validation import check_X_y, check_array, check_is_fitted\n",
    "from sklearn.utils.multiclass import unique_labels\n",
    "from sklearn.metrics import euclidean_distances\n",
    "from sklearn.preprocessing import MultiLabelBinarizer\n",
    "from sklearn.datasets import make_multilabel_classification\n",
    "from sklearn.multioutput import MultiOutputClassifier\n",
    "from sklearn.linear_model import LogisticRegression, SGDClassifier, LogisticRegressionCV\n",
    "from sklearn.ensemble import RandomForestClassifier\n",
    "import re\n",
    "import nltk\n",
    "from nltk.corpus import stopwords\n",
    "from nltk.stem.snowball import SnowballStemmer\n",
    "from sklearn import preprocessing\n"
   ]
  },
  {
   "cell_type": "code",
   "execution_count": 335,
   "metadata": {},
   "outputs": [
    {
     "data": {
      "text/plain": [
       "'sfsaf as fa mfw wmwf mdf w a d g'"
      ]
     },
     "execution_count": 335,
     "metadata": {},
     "output_type": "execute_result"
    }
   ],
   "source": [
    "def decontract(sentence):\n",
    "    sentence = re.sub(r\"n\\'t\", \" not\", sentence)\n",
    "    sentence = re.sub(r\"\\'re\", \" are\", sentence)\n",
    "    sentence = re.sub(r\"\\'s\", \" is\", sentence)\n",
    "    sentence = re.sub(r\"\\'d\", \" would\", sentence)\n",
    "    sentence = re.sub(r\"\\'ll\", \" will\", sentence)\n",
    "    sentence = re.sub(r\"\\'t\", \" not\", sentence)\n",
    "    sentence = re.sub(r\"\\'ve\", \" have\", sentence)\n",
    "    sentence = re.sub(r\"\\'m\", \" am\", sentence)\n",
    "    return sentence\n",
    "\n",
    "def removePunctuation(sentence): \n",
    "    sentence = re.sub(r'[?|!|\\'|\"|#]',r'',sentence)\n",
    "    sentence = re.sub(r'[.|,|)|(|\\|/]',r' ',sentence)\n",
    "    sentence = sentence.strip()\n",
    "    sentence = sentence.replace(\"\\n\",\" \")\n",
    "    return sentence\n",
    "\n",
    "def removeNumber(sentence):\n",
    "    alpha_sent = \"\"\n",
    "    for word in sentence.split():\n",
    "        alpha_word = re.sub('[^a-z A-Z]+', '', word)\n",
    "        alpha_sent += alpha_word\n",
    "        alpha_sent += \" \"\n",
    "    alpha_sent = alpha_sent.strip()\n",
    "    return alpha_sent\n",
    "\n",
    "def stemming(sentence):\n",
    "    stemmer = SnowballStemmer(\"english\")\n",
    "    stemmedSentence = \"\"\n",
    "    for word in sentence.split():\n",
    "        stem = stemmer.stem(word)\n",
    "        stemmedSentence += stem\n",
    "        stemmedSentence += \" \"\n",
    "    stemmedSentence = stemmedSentence.strip()\n",
    "    return stemmedSentence\n",
    "\n",
    "def clear(string):\n",
    "    string = decontract(string)\n",
    "    string = removePunctuation(string)\n",
    "    string = removeNumber(string)\n",
    "    string = stemming(string)\n",
    "    return string\n",
    "\n",
    "clear(\"sfsaf as fa mfw,;;wmwf mdf,w341. 22333 1 a d g\")"
   ]
  },
  {
   "cell_type": "code",
   "execution_count": 339,
   "metadata": {},
   "outputs": [
    {
     "data": {
      "text/html": [
       "<div>\n",
       "<style scoped>\n",
       "    .dataframe tbody tr th:only-of-type {\n",
       "        vertical-align: middle;\n",
       "    }\n",
       "\n",
       "    .dataframe tbody tr th {\n",
       "        vertical-align: top;\n",
       "    }\n",
       "\n",
       "    .dataframe thead th {\n",
       "        text-align: right;\n",
       "    }\n",
       "</style>\n",
       "<table border=\"1\" class=\"dataframe\">\n",
       "  <thead>\n",
       "    <tr style=\"text-align: right;\">\n",
       "      <th></th>\n",
       "      <th>id</th>\n",
       "      <th>movie</th>\n",
       "      <th>dialogue</th>\n",
       "      <th>genres</th>\n",
       "    </tr>\n",
       "  </thead>\n",
       "  <tbody>\n",
       "    <tr>\n",
       "      <th>0</th>\n",
       "      <td>0</td>\n",
       "      <td>0</td>\n",
       "      <td>i thought you were in a meet br i am with you</td>\n",
       "      <td>[drama, romance]</td>\n",
       "    </tr>\n",
       "    <tr>\n",
       "      <th>1</th>\n",
       "      <td>1</td>\n",
       "      <td>1</td>\n",
       "      <td>are you sure you are okay you are pale br i fe...</td>\n",
       "      <td>[drama]</td>\n",
       "    </tr>\n",
       "    <tr>\n",
       "      <th>2</th>\n",
       "      <td>2</td>\n",
       "      <td>2</td>\n",
       "      <td>go on get out br mom look do not say anyth fir...</td>\n",
       "      <td>[comedy]</td>\n",
       "    </tr>\n",
       "    <tr>\n",
       "      <th>3</th>\n",
       "      <td>3</td>\n",
       "      <td>3</td>\n",
       "      <td>i could have lost my fuck hand br that would h...</td>\n",
       "      <td>[mystery, thriller]</td>\n",
       "    </tr>\n",
       "    <tr>\n",
       "      <th>4</th>\n",
       "      <td>4</td>\n",
       "      <td>4</td>\n",
       "      <td>stick with me on this gloria i need you br and...</td>\n",
       "      <td>[crime, thriller]</td>\n",
       "    </tr>\n",
       "    <tr>\n",
       "      <th>...</th>\n",
       "      <td>...</td>\n",
       "      <td>...</td>\n",
       "      <td>...</td>\n",
       "      <td>...</td>\n",
       "    </tr>\n",
       "    <tr>\n",
       "      <th>36986</th>\n",
       "      <td>36986</td>\n",
       "      <td>246</td>\n",
       "      <td>there is a man downstair he brought us egg he ...</td>\n",
       "      <td>[drama, war]</td>\n",
       "    </tr>\n",
       "    <tr>\n",
       "      <th>36987</th>\n",
       "      <td>36987</td>\n",
       "      <td>43</td>\n",
       "      <td>hi br i would prefer it if you did not speak t...</td>\n",
       "      <td>[comedy, drama]</td>\n",
       "    </tr>\n",
       "    <tr>\n",
       "      <th>36988</th>\n",
       "      <td>36988</td>\n",
       "      <td>459</td>\n",
       "      <td>i tri to call you i am run a littl late this i...</td>\n",
       "      <td>[drama]</td>\n",
       "    </tr>\n",
       "    <tr>\n",
       "      <th>36989</th>\n",
       "      <td>36989</td>\n",
       "      <td>174</td>\n",
       "      <td>what are you crazi br i just thought we should...</td>\n",
       "      <td>[drama, romance]</td>\n",
       "    </tr>\n",
       "    <tr>\n",
       "      <th>36990</th>\n",
       "      <td>36990</td>\n",
       "      <td>255</td>\n",
       "      <td>i would not have uh kill you father dominus om...</td>\n",
       "      <td>[crime, drama]</td>\n",
       "    </tr>\n",
       "  </tbody>\n",
       "</table>\n",
       "<p>36991 rows × 4 columns</p>\n",
       "</div>"
      ],
      "text/plain": [
       "          id  movie                                           dialogue  \\\n",
       "0          0      0      i thought you were in a meet br i am with you   \n",
       "1          1      1  are you sure you are okay you are pale br i fe...   \n",
       "2          2      2  go on get out br mom look do not say anyth fir...   \n",
       "3          3      3  i could have lost my fuck hand br that would h...   \n",
       "4          4      4  stick with me on this gloria i need you br and...   \n",
       "...      ...    ...                                                ...   \n",
       "36986  36986    246  there is a man downstair he brought us egg he ...   \n",
       "36987  36987     43  hi br i would prefer it if you did not speak t...   \n",
       "36988  36988    459  i tri to call you i am run a littl late this i...   \n",
       "36989  36989    174  what are you crazi br i just thought we should...   \n",
       "36990  36990    255  i would not have uh kill you father dominus om...   \n",
       "\n",
       "                    genres  \n",
       "0         [drama, romance]  \n",
       "1                  [drama]  \n",
       "2                 [comedy]  \n",
       "3      [mystery, thriller]  \n",
       "4        [crime, thriller]  \n",
       "...                    ...  \n",
       "36986         [drama, war]  \n",
       "36987      [comedy, drama]  \n",
       "36988              [drama]  \n",
       "36989     [drama, romance]  \n",
       "36990       [crime, drama]  \n",
       "\n",
       "[36991 rows x 4 columns]"
      ]
     },
     "execution_count": 339,
     "metadata": {},
     "output_type": "execute_result"
    }
   ],
   "source": [
    "train_df"
   ]
  },
  {
   "cell_type": "code",
   "execution_count": 338,
   "metadata": {},
   "outputs": [],
   "source": [
    "train_df = pd.read_csv('train.csv')\n",
    "test_df = pd.read_csv('test.csv')\n",
    "train_df.dialogue = train_df.dialogue.apply(lambda x: clear(x))\n",
    "test_df.dialogue = test_df.dialogue.apply(lambda x: clear(x))\n",
    "# genres = (\n",
    "#     {\n",
    "#      'drama': 0,\n",
    "#      'romance': 1,\n",
    "#      'comedy': 2,\n",
    "#      'mystery': 3,\n",
    "#      'thriller': 4,\n",
    "#      'crime': 5,\n",
    "#      'action': 6,\n",
    "#      'fantasy': 7,\n",
    "#      'war': 8,\n",
    "#      'sci-fi': 9,\n",
    "#      'horror': 10,\n",
    "#      'sport': 11,\n",
    "#      'adventure': 12,\n",
    "#      'music': 13,\n",
    "#      'biography': 14,\n",
    "#      'history': 15,\n",
    "#      'western': 16,\n",
    "#      'musical': 17,\n",
    "#      'family': 18,\n",
    "#      'animation': 19\n",
    "#     }\n",
    "# )\n",
    "\n",
    "\n",
    "def convert_to_multilabels(x):\n",
    "    result = [0] * len(genres.keys())\n",
    "    newRes = []\n",
    "    x = x.replace(\"[\", \"\").replace(\"]\", \"\").replace(\",\", \"\").replace(\"u'\", \"\").replace(\"'\", \"\")\n",
    "    x = x.split()\n",
    "#     for el in x:\n",
    "#         index = genres[el]\n",
    "#         result[index] = 1\n",
    "    return x\n",
    "    \n",
    "train_df.genres = train_df.genres.apply(lambda x: convert_to_multilabels(x))\n",
    "\n",
    "X_train, y_train = train_df[['id', 'dialogue']], train_df.genres\n",
    "X_test = test_df[['id', 'dialogue']]\n",
    "multiLabelBinarizer = MultiLabelBinarizer()\n",
    "y_train = multiLabelBinarizer.fit_transform(y_train)"
   ]
  },
  {
   "cell_type": "code",
   "execution_count": 352,
   "metadata": {},
   "outputs": [],
   "source": [
    "def f(x):\n",
    "    res = []\n",
    "    for z in x:\n",
    "        res.append(z)\n",
    "    if len(res) == 0:\n",
    "        return \"drama\"\n",
    "    return \" \".join(res)\n",
    "\n",
    "\n",
    "class MyClassifier(BaseEstimator, ClassifierMixin):\n",
    "    \n",
    "    def __init__(self, multiLabelBinarizer):\n",
    "        self.X_train_tfidf = None\n",
    "        self.X_train_counts = None\n",
    "        self.clf = None\n",
    "        self.count_vect = CountVectorizer(strip_accents='unicode', analyzer='word', ngram_range=(1,3))\n",
    "        self.tfidf_transformer = TfidfTransformer()\n",
    "        self.multiLabelBinarizer = multiLabelBinarizer\n",
    "        \n",
    "    def fit(self, X, y):\n",
    "        self.X_train_counts = self.count_vect.fit_transform(X.dialogue)\n",
    "        self.X_train_tfidf = self.tfidf_transformer.fit_transform(self.X_train_counts)\n",
    "        self.X_train_tfidf = preprocessing.scale(self.X_train_tfidf, with_mean=False)\n",
    "        self.clf = MultiOutputClassifier(LogisticRegression(multi_class='ovr', penalty='elasticnet', solver='saga', tol=0.01)).fit(self.X_train_tfidf, y)\n",
    "        \n",
    "    def predict(self, X):\n",
    "        X_new_counts = self.count_vect.transform(X.dialogue)\n",
    "        X_new_tfidf = self.tfidf_transformer.transform(X_new_counts)\n",
    "        X_new_tfidf = preprocessing.scale(X_new_tfidf, with_mean=False)\n",
    "        predicted = self.clf.predict(X_new_tfidf)\n",
    "        \n",
    "        out = X[['id']]\n",
    "        out['genres'] = self.multiLabelBinarizer.inverse_transform(predicted)\n",
    "        out.genres = out.genres.apply(lambda x: f(x))\n",
    "        out.to_csv('result.csv', index=False)\n",
    "        self.result_dataframe = out\n",
    "        return predicted\n",
    "       "
   ]
  },
  {
   "cell_type": "code",
   "execution_count": null,
   "metadata": {},
   "outputs": [
    {
     "name": "stderr",
     "output_type": "stream",
     "text": [
      "/Users/mvvm/opt/anaconda3/lib/python3.8/site-packages/sklearn/linear_model/_logistic.py:762: ConvergenceWarning: lbfgs failed to converge (status=1):\n",
      "STOP: TOTAL NO. of ITERATIONS REACHED LIMIT.\n",
      "\n",
      "Increase the number of iterations (max_iter) or scale the data as shown in:\n",
      "    https://scikit-learn.org/stable/modules/preprocessing.html\n",
      "Please also refer to the documentation for alternative solver options:\n",
      "    https://scikit-learn.org/stable/modules/linear_model.html#logistic-regression\n",
      "  n_iter_i = _check_optimize_result(\n",
      "/Users/mvvm/opt/anaconda3/lib/python3.8/site-packages/sklearn/linear_model/_logistic.py:762: ConvergenceWarning: lbfgs failed to converge (status=1):\n",
      "STOP: TOTAL NO. of ITERATIONS REACHED LIMIT.\n",
      "\n",
      "Increase the number of iterations (max_iter) or scale the data as shown in:\n",
      "    https://scikit-learn.org/stable/modules/preprocessing.html\n",
      "Please also refer to the documentation for alternative solver options:\n",
      "    https://scikit-learn.org/stable/modules/linear_model.html#logistic-regression\n",
      "  n_iter_i = _check_optimize_result(\n",
      "/Users/mvvm/opt/anaconda3/lib/python3.8/site-packages/sklearn/linear_model/_logistic.py:762: ConvergenceWarning: lbfgs failed to converge (status=1):\n",
      "STOP: TOTAL NO. of ITERATIONS REACHED LIMIT.\n",
      "\n",
      "Increase the number of iterations (max_iter) or scale the data as shown in:\n",
      "    https://scikit-learn.org/stable/modules/preprocessing.html\n",
      "Please also refer to the documentation for alternative solver options:\n",
      "    https://scikit-learn.org/stable/modules/linear_model.html#logistic-regression\n",
      "  n_iter_i = _check_optimize_result(\n",
      "/Users/mvvm/opt/anaconda3/lib/python3.8/site-packages/sklearn/linear_model/_logistic.py:762: ConvergenceWarning: lbfgs failed to converge (status=1):\n",
      "STOP: TOTAL NO. of ITERATIONS REACHED LIMIT.\n",
      "\n",
      "Increase the number of iterations (max_iter) or scale the data as shown in:\n",
      "    https://scikit-learn.org/stable/modules/preprocessing.html\n",
      "Please also refer to the documentation for alternative solver options:\n",
      "    https://scikit-learn.org/stable/modules/linear_model.html#logistic-regression\n",
      "  n_iter_i = _check_optimize_result(\n",
      "/Users/mvvm/opt/anaconda3/lib/python3.8/site-packages/sklearn/linear_model/_logistic.py:762: ConvergenceWarning: lbfgs failed to converge (status=1):\n",
      "STOP: TOTAL NO. of ITERATIONS REACHED LIMIT.\n",
      "\n",
      "Increase the number of iterations (max_iter) or scale the data as shown in:\n",
      "    https://scikit-learn.org/stable/modules/preprocessing.html\n",
      "Please also refer to the documentation for alternative solver options:\n",
      "    https://scikit-learn.org/stable/modules/linear_model.html#logistic-regression\n",
      "  n_iter_i = _check_optimize_result(\n",
      "/Users/mvvm/opt/anaconda3/lib/python3.8/site-packages/sklearn/linear_model/_logistic.py:762: ConvergenceWarning: lbfgs failed to converge (status=1):\n",
      "STOP: TOTAL NO. of ITERATIONS REACHED LIMIT.\n",
      "\n",
      "Increase the number of iterations (max_iter) or scale the data as shown in:\n",
      "    https://scikit-learn.org/stable/modules/preprocessing.html\n",
      "Please also refer to the documentation for alternative solver options:\n",
      "    https://scikit-learn.org/stable/modules/linear_model.html#logistic-regression\n",
      "  n_iter_i = _check_optimize_result(\n"
     ]
    }
   ],
   "source": [
    "# myclf = MultiOutputClassifier(MyClassifier())\n",
    "# count_vect = CountVectorizer()\n",
    "# X_train_counts = count_vect.fit_transform(X_train.dialogue)\n",
    "# X_train_tfidf = tfidf_transformer.fit_transform(X_train_counts)\n",
    "# myclf = MultiOutputClassifier(MultinomialNB()).fit(X_train_tfidf, y_train)\n",
    "\n",
    "\n",
    "X_test\n",
    "# X_train\n",
    "cld = MyClassifier(multiLabelBinarizer=multiLabelBinarizer)\n",
    "cld.fit(X_train, y_train)\n",
    "cld.predict(X_test)\n",
    "\n",
    "\n",
    "# scores = cross_val_score(cld, X_train, y_train, cv = 3, scoring='f1_samples')\n",
    "# print(\"Accuracy: %0.2f (+/- %0.2f)\" % (scores.mean(), scores.std() * 2))"
   ]
  },
  {
   "cell_type": "code",
   "execution_count": 328,
   "metadata": {},
   "outputs": [
    {
     "data": {
      "text/plain": [
       "<WordListCorpusReader in '.../corpora/stopwords' (not loaded yet)>"
      ]
     },
     "execution_count": 328,
     "metadata": {},
     "output_type": "execute_result"
    }
   ],
   "source": [
    "stopwords."
   ]
  },
  {
   "cell_type": "code",
   "execution_count": 290,
   "metadata": {},
   "outputs": [
    {
     "name": "stdout",
     "output_type": "stream",
     "text": [
      "1\n",
      "6\n",
      "7\n"
     ]
    }
   ],
   "source": [
    "for t in (1,6,7):\n",
    "    print(t)"
   ]
  },
  {
   "cell_type": "code",
   "execution_count": 140,
   "metadata": {},
   "outputs": [
    {
     "ename": "ValueError",
     "evalue": "Input has n_features=17929 while the model has been trained with n_features=35707",
     "output_type": "error",
     "traceback": [
      "\u001b[0;31m---------------------------------------------------------------------------\u001b[0m",
      "\u001b[0;31mValueError\u001b[0m                                Traceback (most recent call last)",
      "\u001b[0;32m<ipython-input-140-7cbd0dfe7a5e>\u001b[0m in \u001b[0;36m<module>\u001b[0;34m\u001b[0m\n\u001b[1;32m      1\u001b[0m \u001b[0mX_new_counts\u001b[0m \u001b[0;34m=\u001b[0m \u001b[0mcount_vect\u001b[0m\u001b[0;34m.\u001b[0m\u001b[0mfit_transform\u001b[0m\u001b[0;34m(\u001b[0m\u001b[0mX_test\u001b[0m\u001b[0;34m.\u001b[0m\u001b[0mdialogue\u001b[0m\u001b[0;34m)\u001b[0m\u001b[0;34m\u001b[0m\u001b[0;34m\u001b[0m\u001b[0m\n\u001b[0;32m----> 2\u001b[0;31m \u001b[0mX_new_tfidf\u001b[0m \u001b[0;34m=\u001b[0m \u001b[0mtfidf_transformer\u001b[0m\u001b[0;34m.\u001b[0m\u001b[0mtransform\u001b[0m\u001b[0;34m(\u001b[0m\u001b[0mX_new_counts\u001b[0m\u001b[0;34m)\u001b[0m\u001b[0;34m\u001b[0m\u001b[0;34m\u001b[0m\u001b[0m\n\u001b[0m\u001b[1;32m      3\u001b[0m \u001b[0mpredicted\u001b[0m \u001b[0;34m=\u001b[0m \u001b[0mclf\u001b[0m\u001b[0;34m.\u001b[0m\u001b[0mpredict\u001b[0m\u001b[0;34m(\u001b[0m\u001b[0mX_new_tfidf\u001b[0m\u001b[0;34m)\u001b[0m\u001b[0;34m\u001b[0m\u001b[0;34m\u001b[0m\u001b[0m\n",
      "\u001b[0;32m~/opt/anaconda3/lib/python3.8/site-packages/sklearn/feature_extraction/text.py\u001b[0m in \u001b[0;36mtransform\u001b[0;34m(self, X, copy)\u001b[0m\n\u001b[1;32m   1488\u001b[0m             \u001b[0mexpected_n_features\u001b[0m \u001b[0;34m=\u001b[0m \u001b[0mself\u001b[0m\u001b[0;34m.\u001b[0m\u001b[0m_idf_diag\u001b[0m\u001b[0;34m.\u001b[0m\u001b[0mshape\u001b[0m\u001b[0;34m[\u001b[0m\u001b[0;36m0\u001b[0m\u001b[0;34m]\u001b[0m\u001b[0;34m\u001b[0m\u001b[0;34m\u001b[0m\u001b[0m\n\u001b[1;32m   1489\u001b[0m             \u001b[0;32mif\u001b[0m \u001b[0mn_features\u001b[0m \u001b[0;34m!=\u001b[0m \u001b[0mexpected_n_features\u001b[0m\u001b[0;34m:\u001b[0m\u001b[0;34m\u001b[0m\u001b[0;34m\u001b[0m\u001b[0m\n\u001b[0;32m-> 1490\u001b[0;31m                 raise ValueError(\"Input has n_features=%d while the model\"\n\u001b[0m\u001b[1;32m   1491\u001b[0m                                  \" has been trained with n_features=%d\" % (\n\u001b[1;32m   1492\u001b[0m                                      n_features, expected_n_features))\n",
      "\u001b[0;31mValueError\u001b[0m: Input has n_features=17929 while the model has been trained with n_features=35707"
     ]
    }
   ],
   "source": [
    "X_new_counts = count_vect.fit_transform(X_test.dialogue)\n",
    "X_new_tfidf = tfidf_transformer.transform(X_new_counts)\n",
    "predicted = clf.predict(X_new_tfidf)"
   ]
  },
  {
   "cell_type": "code",
   "execution_count": 285,
   "metadata": {},
   "outputs": [
    {
     "data": {
      "text/plain": [
       "array([\"[u'drama']\", \"[u'drama']\", \"[u'drama']\", ..., \"[u'drama']\",\n",
       "       \"[u'drama']\", \"[u'drama']\"], dtype='<U81')"
      ]
     },
     "execution_count": 285,
     "metadata": {},
     "output_type": "execute_result"
    }
   ],
   "source": [
    "predicted\n",
    "\n"
   ]
  },
  {
   "cell_type": "code",
   "execution_count": 95,
   "metadata": {},
   "outputs": [
    {
     "name": "stdout",
     "output_type": "stream",
     "text": [
      "   id                                           dialogue\n",
      "0   0  I thought you were in a meeting--? <BR> I am. ...\n",
      "1   1  Are you sure you're okay?  You're pale. <BR> I...\n",
      "2   2  Go on! Get out! <BR> Mom look don't say anythi...\n",
      "3   3  I could have lost my fucking hands. <BR> That ...\n",
      "0       [u'drama', u'romance']\n",
      "1                   [u'drama']\n",
      "2                  [u'comedy']\n",
      "3    [u'mystery', u'thriller']\n",
      "4      [u'crime', u'thriller']\n",
      "5      [u'comedy', u'romance']\n",
      "Name: genres, dtype: object\n",
      "31394\n"
     ]
    }
   ],
   "source": [
    "print(X_train.iloc[0:4, :])\n",
    "print(y_train.head(6))\n",
    "print(count_vect.vocabulary_.get(u'sure'))"
   ]
  },
  {
   "cell_type": "code",
   "execution_count": 66,
   "metadata": {},
   "outputs": [],
   "source": [
    "count_vect.vocabulary"
   ]
  },
  {
   "cell_type": "code",
   "execution_count": 88,
   "metadata": {},
   "outputs": [
    {
     "data": {
      "text/plain": [
       "(2257, 35788)"
      ]
     },
     "execution_count": 88,
     "metadata": {},
     "output_type": "execute_result"
    }
   ],
   "source": [
    "categories = ['alt.atheism', 'soc.religion.christian', 'comp.graphics', 'sci.med']\n",
    "twenty_train = fetch_20newsgroups(subset='train',categories=categories, shuffle=True, random_state=42)\n",
    "count_vect = CountVectorizer()\n",
    "X_train_counts = count_vect.fit_transform(twenty_train.data)\n",
    "\n",
    "tfidf_transformer = TfidfTransformer()\n",
    "X_train_tfidf = tfidf_transformer.fit_transform(X_train_counts)\n",
    "X_train_tfidf.shape"
   ]
  },
  {
   "cell_type": "code",
   "execution_count": 92,
   "metadata": {},
   "outputs": [],
   "source": [
    "clf = MultinomialNB().fit(X_train_tfidf, twenty_train.target)"
   ]
  },
  {
   "cell_type": "code",
   "execution_count": 94,
   "metadata": {},
   "outputs": [
    {
     "data": {
      "text/plain": [
       "array([1, 1, 3, ..., 2, 2, 2])"
      ]
     },
     "execution_count": 94,
     "metadata": {},
     "output_type": "execute_result"
    }
   ],
   "source": [
    "twenty_train.target"
   ]
  },
  {
   "cell_type": "code",
   "execution_count": 153,
   "metadata": {},
   "outputs": [
    {
     "data": {
      "text/html": [
       "<div>\n",
       "<style scoped>\n",
       "    .dataframe tbody tr th:only-of-type {\n",
       "        vertical-align: middle;\n",
       "    }\n",
       "\n",
       "    .dataframe tbody tr th {\n",
       "        vertical-align: top;\n",
       "    }\n",
       "\n",
       "    .dataframe thead th {\n",
       "        text-align: right;\n",
       "    }\n",
       "</style>\n",
       "<table border=\"1\" class=\"dataframe\">\n",
       "  <thead>\n",
       "    <tr style=\"text-align: right;\">\n",
       "      <th></th>\n",
       "      <th>id</th>\n",
       "      <th>movie</th>\n",
       "      <th>dialogue</th>\n",
       "      <th>genres</th>\n",
       "    </tr>\n",
       "  </thead>\n",
       "  <tbody>\n",
       "    <tr>\n",
       "      <th>0</th>\n",
       "      <td>0</td>\n",
       "      <td>0</td>\n",
       "      <td>I thought you were in a meeting--? &lt;BR&gt; I am. ...</td>\n",
       "      <td>[u'drama', u'romance']</td>\n",
       "    </tr>\n",
       "    <tr>\n",
       "      <th>1</th>\n",
       "      <td>1</td>\n",
       "      <td>1</td>\n",
       "      <td>Are you sure you're okay?  You're pale. &lt;BR&gt; I...</td>\n",
       "      <td>[u'drama']</td>\n",
       "    </tr>\n",
       "    <tr>\n",
       "      <th>2</th>\n",
       "      <td>2</td>\n",
       "      <td>2</td>\n",
       "      <td>Go on! Get out! &lt;BR&gt; Mom look don't say anythi...</td>\n",
       "      <td>[u'comedy']</td>\n",
       "    </tr>\n",
       "    <tr>\n",
       "      <th>3</th>\n",
       "      <td>3</td>\n",
       "      <td>3</td>\n",
       "      <td>I could have lost my fucking hands. &lt;BR&gt; That ...</td>\n",
       "      <td>[u'mystery', u'thriller']</td>\n",
       "    </tr>\n",
       "    <tr>\n",
       "      <th>4</th>\n",
       "      <td>4</td>\n",
       "      <td>4</td>\n",
       "      <td>Stick with me on this Gloria.  I need you... &lt;...</td>\n",
       "      <td>[u'crime', u'thriller']</td>\n",
       "    </tr>\n",
       "    <tr>\n",
       "      <th>...</th>\n",
       "      <td>...</td>\n",
       "      <td>...</td>\n",
       "      <td>...</td>\n",
       "      <td>...</td>\n",
       "    </tr>\n",
       "    <tr>\n",
       "      <th>36986</th>\n",
       "      <td>36986</td>\n",
       "      <td>246</td>\n",
       "      <td>There's a man downstairs.  He brought us eggs....</td>\n",
       "      <td>[u'drama', u'war']</td>\n",
       "    </tr>\n",
       "    <tr>\n",
       "      <th>36987</th>\n",
       "      <td>36987</td>\n",
       "      <td>43</td>\n",
       "      <td>Hi. &lt;BR&gt; I'd prefer it if you didn't speak to ...</td>\n",
       "      <td>[u'comedy', u'drama']</td>\n",
       "    </tr>\n",
       "    <tr>\n",
       "      <th>36988</th>\n",
       "      <td>36988</td>\n",
       "      <td>459</td>\n",
       "      <td>I tried to call you I'm running a little late ...</td>\n",
       "      <td>[u'drama']</td>\n",
       "    </tr>\n",
       "    <tr>\n",
       "      <th>36989</th>\n",
       "      <td>36989</td>\n",
       "      <td>174</td>\n",
       "      <td>What are you crazy? &lt;BR&gt; I just thought we sho...</td>\n",
       "      <td>[u'drama', u'romance']</td>\n",
       "    </tr>\n",
       "    <tr>\n",
       "      <th>36990</th>\n",
       "      <td>36990</td>\n",
       "      <td>255</td>\n",
       "      <td>I wouldn't have uh killed you Father.  Dominus...</td>\n",
       "      <td>[u'crime', u'drama']</td>\n",
       "    </tr>\n",
       "  </tbody>\n",
       "</table>\n",
       "<p>36991 rows × 4 columns</p>\n",
       "</div>"
      ],
      "text/plain": [
       "          id  movie                                           dialogue  \\\n",
       "0          0      0  I thought you were in a meeting--? <BR> I am. ...   \n",
       "1          1      1  Are you sure you're okay?  You're pale. <BR> I...   \n",
       "2          2      2  Go on! Get out! <BR> Mom look don't say anythi...   \n",
       "3          3      3  I could have lost my fucking hands. <BR> That ...   \n",
       "4          4      4  Stick with me on this Gloria.  I need you... <...   \n",
       "...      ...    ...                                                ...   \n",
       "36986  36986    246  There's a man downstairs.  He brought us eggs....   \n",
       "36987  36987     43  Hi. <BR> I'd prefer it if you didn't speak to ...   \n",
       "36988  36988    459  I tried to call you I'm running a little late ...   \n",
       "36989  36989    174  What are you crazy? <BR> I just thought we sho...   \n",
       "36990  36990    255  I wouldn't have uh killed you Father.  Dominus...   \n",
       "\n",
       "                          genres  \n",
       "0         [u'drama', u'romance']  \n",
       "1                     [u'drama']  \n",
       "2                    [u'comedy']  \n",
       "3      [u'mystery', u'thriller']  \n",
       "4        [u'crime', u'thriller']  \n",
       "...                          ...  \n",
       "36986         [u'drama', u'war']  \n",
       "36987      [u'comedy', u'drama']  \n",
       "36988                 [u'drama']  \n",
       "36989     [u'drama', u'romance']  \n",
       "36990       [u'crime', u'drama']  \n",
       "\n",
       "[36991 rows x 4 columns]"
      ]
     },
     "execution_count": 153,
     "metadata": {},
     "output_type": "execute_result"
    }
   ],
   "source": [
    "train_df"
   ]
  },
  {
   "cell_type": "code",
   "execution_count": 221,
   "metadata": {},
   "outputs": [
    {
     "data": {
      "text/plain": [
       "0           [drama, romance]\n",
       "1                    [drama]\n",
       "2                   [comedy]\n",
       "3        [mystery, thriller]\n",
       "4          [crime, thriller]\n",
       "                ...         \n",
       "36986           [drama, war]\n",
       "36987        [comedy, drama]\n",
       "36988                [drama]\n",
       "36989       [drama, romance]\n",
       "36990         [crime, drama]\n",
       "Name: genres, Length: 36991, dtype: object"
      ]
     },
     "execution_count": 221,
     "metadata": {},
     "output_type": "execute_result"
    }
   ],
   "source": [
    "z = CountVectorizer()\n",
    "z.fit(train_df.genres)\n",
    "z.vocabulary_"
   ]
  },
  {
   "cell_type": "code",
   "execution_count": 196,
   "metadata": {},
   "outputs": [],
   "source": []
  },
  {
   "cell_type": "code",
   "execution_count": 200,
   "metadata": {},
   "outputs": [
    {
     "data": {
      "text/html": [
       "<div>\n",
       "<style scoped>\n",
       "    .dataframe tbody tr th:only-of-type {\n",
       "        vertical-align: middle;\n",
       "    }\n",
       "\n",
       "    .dataframe tbody tr th {\n",
       "        vertical-align: top;\n",
       "    }\n",
       "\n",
       "    .dataframe thead th {\n",
       "        text-align: right;\n",
       "    }\n",
       "</style>\n",
       "<table border=\"1\" class=\"dataframe\">\n",
       "  <thead>\n",
       "    <tr style=\"text-align: right;\">\n",
       "      <th></th>\n",
       "      <th>id</th>\n",
       "      <th>movie</th>\n",
       "      <th>dialogue</th>\n",
       "      <th>genres</th>\n",
       "    </tr>\n",
       "  </thead>\n",
       "  <tbody>\n",
       "    <tr>\n",
       "      <th>0</th>\n",
       "      <td>0</td>\n",
       "      <td>0</td>\n",
       "      <td>I thought you were in a meeting--? &lt;BR&gt; I am. ...</td>\n",
       "      <td>[1, 1, 0, 0, 0, 0, 0, 0, 0, 0, 0, 0, 0, 0, 0, ...</td>\n",
       "    </tr>\n",
       "    <tr>\n",
       "      <th>1</th>\n",
       "      <td>1</td>\n",
       "      <td>1</td>\n",
       "      <td>Are you sure you're okay?  You're pale. &lt;BR&gt; I...</td>\n",
       "      <td>[1, 0, 0, 0, 0, 0, 0, 0, 0, 0, 0, 0, 0, 0, 0, ...</td>\n",
       "    </tr>\n",
       "    <tr>\n",
       "      <th>2</th>\n",
       "      <td>2</td>\n",
       "      <td>2</td>\n",
       "      <td>Go on! Get out! &lt;BR&gt; Mom look don't say anythi...</td>\n",
       "      <td>[0, 0, 1, 0, 0, 0, 0, 0, 0, 0, 0, 0, 0, 0, 0, ...</td>\n",
       "    </tr>\n",
       "    <tr>\n",
       "      <th>3</th>\n",
       "      <td>3</td>\n",
       "      <td>3</td>\n",
       "      <td>I could have lost my fucking hands. &lt;BR&gt; That ...</td>\n",
       "      <td>[0, 0, 0, 1, 1, 0, 0, 0, 0, 0, 0, 0, 0, 0, 0, ...</td>\n",
       "    </tr>\n",
       "    <tr>\n",
       "      <th>4</th>\n",
       "      <td>4</td>\n",
       "      <td>4</td>\n",
       "      <td>Stick with me on this Gloria.  I need you... &lt;...</td>\n",
       "      <td>[0, 0, 0, 0, 1, 1, 0, 0, 0, 0, 0, 0, 0, 0, 0, ...</td>\n",
       "    </tr>\n",
       "    <tr>\n",
       "      <th>...</th>\n",
       "      <td>...</td>\n",
       "      <td>...</td>\n",
       "      <td>...</td>\n",
       "      <td>...</td>\n",
       "    </tr>\n",
       "    <tr>\n",
       "      <th>36986</th>\n",
       "      <td>36986</td>\n",
       "      <td>246</td>\n",
       "      <td>There's a man downstairs.  He brought us eggs....</td>\n",
       "      <td>[1, 0, 0, 0, 0, 0, 0, 0, 1, 0, 0, 0, 0, 0, 0, ...</td>\n",
       "    </tr>\n",
       "    <tr>\n",
       "      <th>36987</th>\n",
       "      <td>36987</td>\n",
       "      <td>43</td>\n",
       "      <td>Hi. &lt;BR&gt; I'd prefer it if you didn't speak to ...</td>\n",
       "      <td>[1, 0, 1, 0, 0, 0, 0, 0, 0, 0, 0, 0, 0, 0, 0, ...</td>\n",
       "    </tr>\n",
       "    <tr>\n",
       "      <th>36988</th>\n",
       "      <td>36988</td>\n",
       "      <td>459</td>\n",
       "      <td>I tried to call you I'm running a little late ...</td>\n",
       "      <td>[1, 0, 0, 0, 0, 0, 0, 0, 0, 0, 0, 0, 0, 0, 0, ...</td>\n",
       "    </tr>\n",
       "    <tr>\n",
       "      <th>36989</th>\n",
       "      <td>36989</td>\n",
       "      <td>174</td>\n",
       "      <td>What are you crazy? &lt;BR&gt; I just thought we sho...</td>\n",
       "      <td>[1, 1, 0, 0, 0, 0, 0, 0, 0, 0, 0, 0, 0, 0, 0, ...</td>\n",
       "    </tr>\n",
       "    <tr>\n",
       "      <th>36990</th>\n",
       "      <td>36990</td>\n",
       "      <td>255</td>\n",
       "      <td>I wouldn't have uh killed you Father.  Dominus...</td>\n",
       "      <td>[1, 0, 0, 0, 0, 1, 0, 0, 0, 0, 0, 0, 0, 0, 0, ...</td>\n",
       "    </tr>\n",
       "  </tbody>\n",
       "</table>\n",
       "<p>36991 rows × 4 columns</p>\n",
       "</div>"
      ],
      "text/plain": [
       "          id  movie                                           dialogue  \\\n",
       "0          0      0  I thought you were in a meeting--? <BR> I am. ...   \n",
       "1          1      1  Are you sure you're okay?  You're pale. <BR> I...   \n",
       "2          2      2  Go on! Get out! <BR> Mom look don't say anythi...   \n",
       "3          3      3  I could have lost my fucking hands. <BR> That ...   \n",
       "4          4      4  Stick with me on this Gloria.  I need you... <...   \n",
       "...      ...    ...                                                ...   \n",
       "36986  36986    246  There's a man downstairs.  He brought us eggs....   \n",
       "36987  36987     43  Hi. <BR> I'd prefer it if you didn't speak to ...   \n",
       "36988  36988    459  I tried to call you I'm running a little late ...   \n",
       "36989  36989    174  What are you crazy? <BR> I just thought we sho...   \n",
       "36990  36990    255  I wouldn't have uh killed you Father.  Dominus...   \n",
       "\n",
       "                                                  genres  \n",
       "0      [1, 1, 0, 0, 0, 0, 0, 0, 0, 0, 0, 0, 0, 0, 0, ...  \n",
       "1      [1, 0, 0, 0, 0, 0, 0, 0, 0, 0, 0, 0, 0, 0, 0, ...  \n",
       "2      [0, 0, 1, 0, 0, 0, 0, 0, 0, 0, 0, 0, 0, 0, 0, ...  \n",
       "3      [0, 0, 0, 1, 1, 0, 0, 0, 0, 0, 0, 0, 0, 0, 0, ...  \n",
       "4      [0, 0, 0, 0, 1, 1, 0, 0, 0, 0, 0, 0, 0, 0, 0, ...  \n",
       "...                                                  ...  \n",
       "36986  [1, 0, 0, 0, 0, 0, 0, 0, 1, 0, 0, 0, 0, 0, 0, ...  \n",
       "36987  [1, 0, 1, 0, 0, 0, 0, 0, 0, 0, 0, 0, 0, 0, 0, ...  \n",
       "36988  [1, 0, 0, 0, 0, 0, 0, 0, 0, 0, 0, 0, 0, 0, 0, ...  \n",
       "36989  [1, 1, 0, 0, 0, 0, 0, 0, 0, 0, 0, 0, 0, 0, 0, ...  \n",
       "36990  [1, 0, 0, 0, 0, 1, 0, 0, 0, 0, 0, 0, 0, 0, 0, ...  \n",
       "\n",
       "[36991 rows x 4 columns]"
      ]
     },
     "execution_count": 200,
     "metadata": {},
     "output_type": "execute_result"
    }
   ],
   "source": [
    "train_df"
   ]
  },
  {
   "cell_type": "code",
   "execution_count": 225,
   "metadata": {},
   "outputs": [],
   "source": []
  },
  {
   "cell_type": "code",
   "execution_count": 229,
   "metadata": {},
   "outputs": [
    {
     "data": {
      "text/plain": [
       "array([0, 0, 0, 0, 1, 0, 0, 0, 0, 0, 0, 0, 0, 0, 0, 0, 0, 0, 0, 0])"
      ]
     },
     "execution_count": 229,
     "metadata": {},
     "output_type": "execute_result"
    }
   ],
   "source": []
  },
  {
   "cell_type": "code",
   "execution_count": null,
   "metadata": {},
   "outputs": [],
   "source": []
  }
 ],
 "metadata": {
  "kernelspec": {
   "display_name": "Python 3",
   "language": "python",
   "name": "python3"
  },
  "language_info": {
   "codemirror_mode": {
    "name": "ipython",
    "version": 3
   },
   "file_extension": ".py",
   "mimetype": "text/x-python",
   "name": "python",
   "nbconvert_exporter": "python",
   "pygments_lexer": "ipython3",
   "version": "3.8.3"
  }
 },
 "nbformat": 4,
 "nbformat_minor": 4
}
